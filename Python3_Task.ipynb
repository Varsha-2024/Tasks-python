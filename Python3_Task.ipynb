{
  "metadata": {
    "language_info": {
      "codemirror_mode": {
        "name": "python",
        "version": 3
      },
      "file_extension": ".py",
      "mimetype": "text/x-python",
      "name": "python",
      "nbconvert_exporter": "python",
      "pygments_lexer": "ipython3",
      "version": "3.8"
    },
    "kernelspec": {
      "name": "python",
      "display_name": "Python (Pyodide)",
      "language": "python"
    }
  },
  "nbformat_minor": 4,
  "nbformat": 4,
  "cells": [
    {
      "cell_type": "code",
      "source": "#if elif- else\nmarks=85\nif marks < 75:\n    print(\"Grade C\")\nelif marks < 85:\n    print(\"Grade B\")\nelif marks < 100:\n    print(\"Grade A\")\nelif marks < 45:\n    print(\"FAIL\")\nelse:\n    print(\"INVALID\")",
      "metadata": {
        "trusted": true
      },
      "execution_count": 1,
      "outputs": [
        {
          "name": "stdout",
          "text": "Grade A\n",
          "output_type": "stream"
        }
      ]
    },
    {
      "cell_type": "code",
      "source": "v=\"Varsha\"\nfor temp in v:\n    print(temp)",
      "metadata": {
        "trusted": true
      },
      "execution_count": 2,
      "outputs": [
        {
          "name": "stdout",
          "text": "V\na\nr\ns\nh\na\n",
          "output_type": "stream"
        }
      ]
    },
    {
      "cell_type": "code",
      "source": "for temp in range(1,10):\n    print(temp)",
      "metadata": {
        "trusted": true
      },
      "execution_count": 3,
      "outputs": [
        {
          "name": "stdout",
          "text": "1\n2\n3\n4\n5\n6\n7\n8\n9\n",
          "output_type": "stream"
        }
      ]
    },
    {
      "cell_type": "code",
      "source": "for i in range(2,10,2):\n    print(i)",
      "metadata": {
        "trusted": true
      },
      "execution_count": 4,
      "outputs": [
        {
          "name": "stdout",
          "text": "2\n4\n6\n8\n",
          "output_type": "stream"
        }
      ]
    },
    {
      "cell_type": "code",
      "source": "list=[\"Carrot\",\"banana\",\"spinach\"]\nprint(list)\nfor temp in list:\n    print(temp)",
      "metadata": {
        "trusted": true
      },
      "execution_count": 5,
      "outputs": [
        {
          "name": "stdout",
          "text": "['Carrot', 'banana', 'spinach']\nCarrot\nbanana\nspinach\n",
          "output_type": "stream"
        }
      ]
    },
    {
      "cell_type": "code",
      "source": "n=8\nwhile n<10:\n    print(n)\n    n=n+1",
      "metadata": {
        "trusted": true
      },
      "execution_count": 10,
      "outputs": [
        {
          "name": "stdout",
          "text": "8\n9\n",
          "output_type": "stream"
        }
      ]
    },
    {
      "cell_type": "code",
      "source": "def bike():\n    print(\"I'm bike\")\ndef car():\n    print(\"I'm car\")\ndef scooty():\n    print(\"I'm scooty\")\n\ncar()\nbike()",
      "metadata": {
        "trusted": true
      },
      "execution_count": 11,
      "outputs": [
        {
          "name": "stdout",
          "text": "I'm car\nI'm bike\n",
          "output_type": "stream"
        }
      ]
    },
    {
      "cell_type": "code",
      "source": "def function():\n    print(\"calling the function\")\nfunction()    \n\ndef substraction (num1,num2):\n    print(\"hello subs\")\n    print(num2-num1)\nsubstraction (2,5)",
      "metadata": {
        "trusted": true
      },
      "execution_count": 8,
      "outputs": [
        {
          "name": "stdout",
          "text": "calling the function\nhello subs\n3\n",
          "output_type": "stream"
        }
      ]
    },
    {
      "cell_type": "code",
      "source": "def marks (num1,num2):\n    if num1 < num2:\n        print(\"FAIL\")\n    else:\n        print(\"PASS\")\nmarks (22,95)\n\ndef marks (num1,num2):\n    if num1 < num2:\n        print(\"FAIL\")\n    else:\n        print(\"PASS\")\nmarks (92,85)",
      "metadata": {
        "trusted": true
      },
      "execution_count": 9,
      "outputs": [
        {
          "name": "stdout",
          "text": "FAIL\nPASS\n",
          "output_type": "stream"
        }
      ]
    }
  ]
}