{
  "metadata": {
    "language_info": {
      "codemirror_mode": {
        "name": "python",
        "version": 3
      },
      "file_extension": ".py",
      "mimetype": "text/x-python",
      "name": "python",
      "nbconvert_exporter": "python",
      "pygments_lexer": "ipython3",
      "version": "3.8"
    },
    "kernelspec": {
      "name": "python",
      "display_name": "Python (Pyodide)",
      "language": "python"
    }
  },
  "nbformat_minor": 4,
  "nbformat": 4,
  "cells": [
    {
      "cell_type": "code",
      "source": "print(\"Varsha\")",
      "metadata": {
        "trusted": true
      },
      "execution_count": 1,
      "outputs": [
        {
          "name": "stdout",
          "text": "Varsha\n",
          "output_type": "stream"
        }
      ]
    },
    {
      "cell_type": "code",
      "source": "number=\"54\" #integer\nprint(number) #printing the value of number\nprint(type(number)) # printing the datatype of number",
      "metadata": {
        "trusted": true
      },
      "execution_count": 2,
      "outputs": [
        {
          "name": "stdout",
          "text": "54\n<class 'str'>\n",
          "output_type": "stream"
        }
      ]
    },
    {
      "cell_type": "code",
      "source": "a=1.23\nprint(a) #printing the value of a\nprint(type(a)) # printing the datatype of a",
      "metadata": {
        "trusted": true
      },
      "execution_count": 3,
      "outputs": [
        {
          "name": "stdout",
          "text": "1.23\n<class 'float'>\n",
          "output_type": "stream"
        }
      ]
    },
    {
      "cell_type": "code",
      "source": "pv=\"varsha\"\nprint(pv) #printing the value of pv\nprint(type(pv)) # printing the datatype of pv",
      "metadata": {
        "trusted": true
      },
      "execution_count": 4,
      "outputs": [
        {
          "name": "stdout",
          "text": "varsha\n<class 'str'>\n",
          "output_type": "stream"
        }
      ]
    },
    {
      "cell_type": "code",
      "source": "a=True\nprint(type(a)) ",
      "metadata": {
        "trusted": true
      },
      "execution_count": 5,
      "outputs": [
        {
          "name": "stdout",
          "text": "<class 'bool'>\n",
          "output_type": "stream"
        }
      ]
    },
    {
      "cell_type": "code",
      "source": "#casting - changing the datatype into another datatype\nnumber = 10\nprint(number)\ntemp=float(number) # converting int to float\nprint(temp)",
      "metadata": {
        "trusted": true
      },
      "execution_count": 6,
      "outputs": [
        {
          "name": "stdout",
          "text": "10\n10.0\n",
          "output_type": "stream"
        }
      ]
    },
    {
      "cell_type": "code",
      "source": "#casting - changing the datatype into another datatype\nnumber = 10.2\nprint(number)\ntemp=int(number) # converting float to int\nprint(temp)",
      "metadata": {
        "trusted": true
      },
      "execution_count": 7,
      "outputs": [
        {
          "name": "stdout",
          "text": "10.2\n10\n",
          "output_type": "stream"
        }
      ]
    },
    {
      "cell_type": "code",
      "source": "#casting - changing the datatype into another datatype\nnumber = \"1\"\nprint(number)\ntemp=int(number) # converting sttring to int\nprint(temp)\ntemp1=float(number) # converting sttring to float \nprint(temp1)",
      "metadata": {
        "trusted": true
      },
      "execution_count": 8,
      "outputs": [
        {
          "name": "stdout",
          "text": "1\n1\n1.0\n",
          "output_type": "stream"
        }
      ]
    },
    {
      "cell_type": "code",
      "source": "string=\"class\"\nstring1=\"\"\"pythonpython\npython\npython\"\"\"\nprint(string)\nprint(string1)",
      "metadata": {
        "trusted": true
      },
      "execution_count": 9,
      "outputs": [
        {
          "name": "stdout",
          "text": "class\npythonpython\npython\npython\n",
          "output_type": "stream"
        }
      ]
    },
    {
      "cell_type": "code",
      "source": "a=\"ananda nilayam\"\nprint(a)\nprint(a[7]) #indexing\nprint(len(a)) #length of string\nprint(a[0:7])#slicing\nb=\"abcdefghiklmnopqrstuvwxyz\"\nprint(b[5: ])\nprint(b[ : 10])",
      "metadata": {
        "trusted": true
      },
      "execution_count": 10,
      "outputs": [
        {
          "name": "stdout",
          "text": "ananda nilayam\nn\n14\nananda \nfghiklmnopqrstuvwxyz\nabcdefghik\n",
          "output_type": "stream"
        }
      ]
    },
    {
      "cell_type": "code",
      "source": "a=\"Python\"\nfor i in a:\n    print(i)",
      "metadata": {
        "trusted": true
      },
      "execution_count": 11,
      "outputs": [
        {
          "name": "stdout",
          "text": "P\ny\nt\nh\no\nn\n",
          "output_type": "stream"
        }
      ]
    },
    {
      "cell_type": "code",
      "source": "x=\"banana\"\nprint(x.upper())\ny=\"CAT\"\nprint(y.lower())\nprint(x+y)\nprint(x+\" \"+y)",
      "metadata": {
        "trusted": true
      },
      "execution_count": 12,
      "outputs": [
        {
          "name": "stdout",
          "text": "BANANA\ncat\nbananaCAT\nbanana CAT\n",
          "output_type": "stream"
        }
      ]
    },
    {
      "cell_type": "code",
      "source": "x=\"Parrot\"\n#print(x.join(\"Dog\"))\nprint(x.join(\"kite\"))\nprint(x.startswith(\"p\"))\nprint(x.startswith(\"P\"))",
      "metadata": {
        "trusted": true
      },
      "execution_count": 13,
      "outputs": [
        {
          "name": "stdout",
          "text": "kParrotiParrottParrote\nFalse\nTrue\n",
          "output_type": "stream"
        }
      ]
    },
    {
      "cell_type": "code",
      "source": "car=\"this is very costly\"\nprint(\"costly\" in car)\nprint(\"an\" in car)\nprint(type(car))",
      "metadata": {
        "trusted": true
      },
      "execution_count": 14,
      "outputs": [
        {
          "name": "stdout",
          "text": "True\nFalse\n<class 'str'>\n",
          "output_type": "stream"
        }
      ]
    },
    {
      "cell_type": "code",
      "source": "a=10\nb=5\nprint(a>b)",
      "metadata": {
        "trusted": true
      },
      "execution_count": 15,
      "outputs": [
        {
          "name": "stdout",
          "text": "True\n",
          "output_type": "stream"
        }
      ]
    },
    {
      "cell_type": "code",
      "source": "a=10\nb=8\nif a>b:\n    print(\"kite\")\nelse :\n    print(\"horse\")",
      "metadata": {
        "trusted": true
      },
      "execution_count": 16,
      "outputs": [
        {
          "name": "stdout",
          "text": "kite\n",
          "output_type": "stream"
        }
      ]
    },
    {
      "cell_type": "code",
      "source": "a=10\nb=85\nif a>b:\n    print(\"kite\")\nelse :\n    print(\"horse\")",
      "metadata": {
        "trusted": true
      },
      "execution_count": 17,
      "outputs": [
        {
          "name": "stdout",
          "text": "horse\n",
          "output_type": "stream"
        }
      ]
    },
    {
      "cell_type": "code",
      "source": "",
      "metadata": {},
      "execution_count": null,
      "outputs": []
    }
  ]
}